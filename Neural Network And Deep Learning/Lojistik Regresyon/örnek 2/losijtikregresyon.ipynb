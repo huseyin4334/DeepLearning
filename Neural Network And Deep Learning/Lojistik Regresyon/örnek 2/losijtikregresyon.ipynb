{
 "cells": [
  {
   "cell_type": "code",
   "execution_count": 47,
   "metadata": {},
   "outputs": [],
   "source": [
    "import numpy as np\n",
    "import matplotlib.pyplot as plt\n",
    "import h5py\n",
    "from PIL import Image   \n",
    "from scipy import ndimage   #goruntu isleme yetenekleri ekler.\n",
    "import scipy\n",
    "import skimage\n",
    "#import skimage   #goruntu isleme yetenekleri ekler.\n",
    "%matplotlib inline"
   ]
  },
  {
   "cell_type": "code",
   "execution_count": 48,
   "metadata": {},
   "outputs": [],
   "source": [
    "#datayı yükleme fonksiyonu\n",
    "def load_dataset():\n",
    "    train_dataset = h5py.File('train_catvnoncat.h5', \"r\")\n",
    "    train_set_x_orig = np.array(train_dataset[\"train_set_x\"][:])\n",
    "    train_set_y_orig = np.array(train_dataset[\"train_set_y\"][:])\n",
    "    # training seti yuklendi...\n",
    "    test_dataset = h5py.File('test_catvnoncat.h5', \"r\")\n",
    "    test_set_x_orig = np.array(test_dataset[\"test_set_x\"][:])\n",
    "    test_set_y_orig = np.array(test_dataset[\"test_set_y\"][:])\n",
    "    # test seti yuklendi...\n",
    "    classes = np.array(test_dataset[\"list_classes\"][:])\n",
    "\n",
    "    train_set_y_orig = train_set_y_orig.reshape((1, train_set_y_orig.shape[0]))\n",
    "    test_set_y_orig = test_set_y_orig.reshape((1, test_set_y_orig.shape[0]))\n",
    "    # setlerini sutun degerlerini garanti olması icin guncelledik...\n",
    "\n",
    "    return train_set_x_orig, train_set_y_orig, test_set_x_orig, test_set_y_orig, classes"
   ]
  },
  {
   "cell_type": "code",
   "execution_count": 101,
   "metadata": {},
   "outputs": [
    {
     "name": "stdout",
     "output_type": "stream",
     "text": [
      "Eğitim örneği adedi : 209\n",
      "Test örneği adedi : 50\n",
      "Her görüntünün yükseklik ve genişlik değeri : 64\n",
      "Her görüntünün üç boyutlu gösterimi : (64,64,3)\n",
      "train_set_x shape : (209, 64, 64, 3)\n",
      "train_set_y shape : (1, 209)\n",
      "test_set_x shape : (50, 64, 64, 3)\n",
      "test_set_y shape : (1, 50)\n"
     ]
    }
   ],
   "source": [
    "train_set_x, train_set_y, test_set_x, test_set_y, classes = load_dataset()\n",
    "num_px = train_set_x.shape[1]\n",
    "m_train = train_set_y.shape[1]\n",
    "m_test = test_set_y.shape[1]\n",
    "\n",
    "# print(train_set_x.shape)\n",
    "# print(train_set_y.shape)\n",
    "# print(test_set_x.shape)\n",
    "# print(test_set_y.shape)\n",
    "# print(train_set_x[1][1].shape)\n",
    "# print(len(train_set_x[1][1][1]))\n",
    "# print(train_set_x[1][1][1][1]) \n",
    "# #1.indisteki resmin 1.indisteki 64 tane 3 katmanlı piksellerin 1.indisindeki 3 katmanlı pikselin 1.indisindeki rgb değeri :))\n",
    "# print(train_set_y[0][13]) #209 resmin sonuçları\n",
    "\n",
    "print(\"Eğitim örneği adedi : \" + str(m_train))\n",
    "print(\"Test örneği adedi : \" + str(m_test))\n",
    "print(\"Her görüntünün yükseklik ve genişlik değeri : \" + str(num_px))\n",
    "print(\"Her görüntünün üç boyutlu gösterimi : (\" + str(num_px) + \",\" + str(num_px) + \",3)\")\n",
    "print (\"train_set_x shape : \" + str(train_set_x.shape))\n",
    "print (\"train_set_y shape : \" + str(train_set_y.shape))\n",
    "print (\"test_set_x shape : \" + str(test_set_x.shape))\n",
    "print (\"test_set_y shape : \" + str(test_set_y.shape))\n"
   ]
  },
  {
   "cell_type": "code",
   "execution_count": 88,
   "metadata": {},
   "outputs": [
    {
     "name": "stdout",
     "output_type": "stream",
     "text": [
      "Bu bir kedi degildir.\n"
     ]
    },
    {
     "data": {
      "image/png": "[encoded data removed]",
      "text/plain": [
       "<Figure size 432x288 with 1 Axes>"
      ]
     },
     "metadata": {
      "needs_background": "light"
     },
     "output_type": "display_data"
    }
   ],
   "source": [
    "index = 31\n",
    "plt.imshow(train_set_x[index])\n",
    "print(\"Bu bir \",end = \"\") \n",
    "print(\"kedidir\" if train_set_y[:,index] == 1  else \"kedi degildir.\")"
   ]
  },
  {
   "cell_type": "code",
   "execution_count": 89,
   "metadata": {},
   "outputs": [
    {
     "name": "stdout",
     "output_type": "stream",
     "text": [
      "[[ 17  31  56 ...   0   0   0]\n",
      " [196 192 190 ...  82  80  81]\n",
      " [ 82  71  68 ... 138 141 142]\n",
      " ...\n",
      " [143 155 165 ...  85 107 149]\n",
      " [ 22  24  23 ...   4   5   0]\n",
      " [  8  28  53 ...   0   0   0]]\n",
      "(12288, 209)\n",
      "\n",
      "\n",
      "\n",
      "[[158 104  83 ... 173 128 110]\n",
      " [115 110 111 ... 171 176 186]\n",
      " [255 253 254 ... 133 101 121]\n",
      " ...\n",
      " [ 41  47  84 ... 183 141 116]\n",
      " [ 18  18  16 ... 144 137 108]\n",
      " [133 163  75 ...   5  22   5]]\n",
      "(12288, 50)\n"
     ]
    }
   ],
   "source": [
    "print(train_set_x.reshape(train_set_x.shape[0], -1)) #bütün piksel değerlerini yanyana dizerek bir resmi oluşturduk.\n",
    "train_temp = train_set_x.reshape(train_set_x.shape[0], -1).T #her resmin datasını sütunlarda tutulacak şekilde çevirdik.\n",
    "print(train_temp.shape)\n",
    "print(\"\\n\\n\")\n",
    "print(test_set_x.reshape(test_set_x.shape[0], -1)) #bütün piksel değerlerini yanyana dizerek bir resmi oluşturduk.\n",
    "test_temp = test_set_x.reshape(test_set_x.shape[0], -1).T #her resmin datasını sütunlarda tutulacak şekilde çevirdik.\n",
    "print(test_temp.shape)"
   ]
  },
  {
   "cell_type": "code",
   "execution_count": 90,
   "metadata": {},
   "outputs": [
    {
     "name": "stdout",
     "output_type": "stream",
     "text": [
      "[[0.06666667 0.76862745 0.32156863 ... 0.56078431 0.08627451 0.03137255]\n",
      " [0.12156863 0.75294118 0.27843137 ... 0.60784314 0.09411765 0.10980392]\n",
      " [0.21960784 0.74509804 0.26666667 ... 0.64705882 0.09019608 0.20784314]\n",
      " ...\n",
      " [0.         0.32156863 0.54117647 ... 0.33333333 0.01568627 0.        ]\n",
      " [0.         0.31372549 0.55294118 ... 0.41960784 0.01960784 0.        ]\n",
      " [0.         0.31764706 0.55686275 ... 0.58431373 0.         0.        ]]\n",
      "\n",
      "\n",
      "\n",
      "[[0.61960784 0.45098039 1.         ... 0.16078431 0.07058824 0.52156863]\n",
      " [0.40784314 0.43137255 0.99215686 ... 0.18431373 0.07058824 0.63921569]\n",
      " [0.3254902  0.43529412 0.99607843 ... 0.32941176 0.0627451  0.29411765]\n",
      " ...\n",
      " [0.67843137 0.67058824 0.52156863 ... 0.71764706 0.56470588 0.01960784]\n",
      " [0.50196078 0.69019608 0.39607843 ... 0.55294118 0.5372549  0.08627451]\n",
      " [0.43137255 0.72941176 0.4745098  ... 0.45490196 0.42352941 0.01960784]]\n"
     ]
    }
   ],
   "source": [
    "train_set_x = train_temp/255.\n",
    "print(train_set_x)\n",
    "print(\"\\n\\n\")\n",
    "test_set_x = test_temp/255.\n",
    "print(test_set_x)"
   ]
  },
  {
   "cell_type": "code",
   "execution_count": 91,
   "metadata": {},
   "outputs": [],
   "source": [
    "def start_with_zeros(dim):\n",
    "    w = np.zeros(shape = (dim,1))\n",
    "    b = 0\n",
    "    assert(w.shape==(dim,1))\n",
    "    assert(isinstance(b,float) or isinstance(b,int))\n",
    "    \n",
    "    return w,b"
   ]
  },
  {
   "cell_type": "code",
   "execution_count": 92,
   "metadata": {},
   "outputs": [],
   "source": [
    "def sigmoid(z):\n",
    "    s = 1/(1+np.exp(-z))\n",
    "    return s"
   ]
  },
  {
   "cell_type": "code",
   "execution_count": 93,
   "metadata": {},
   "outputs": [],
   "source": [
    "def forward_propagation(w,b,X,Y):\n",
    "    \n",
    "    m = X.shape[1]\n",
    "    \n",
    "    A = sigmoid(np.dot(w.T,X) + b)\n",
    "    cost = (-1/m) * np.sum(Y * np.log(A) + (1 - Y) * np.log(1 - A))\n",
    "    \n",
    "    dz = A - Y\n",
    "    dw = (1/m) * np.dot(X,dz.T)\n",
    "    db = (1/m) * np.sum(dz)\n",
    "    \n",
    "    turev = {\n",
    "        \"dw\" : dw,\n",
    "        \"db\" : db\n",
    "    }\n",
    "    \n",
    "    return turev,cost\n",
    "    "
   ]
  },
  {
   "cell_type": "code",
   "execution_count": 94,
   "metadata": {},
   "outputs": [],
   "source": [
    "def back_propagation(w,b,X,Y,learning_rate,iteration,print_cost):\n",
    "    \n",
    "    costs = []\n",
    "    \n",
    "    for i in range(iteration):\n",
    "        turev,cost = forward_propagation(w,b,X,Y)\n",
    "        \n",
    "        w = w - (learning_rate * turev[\"dw\"])\n",
    "        b = b - (learning_rate * turev[\"db\"])\n",
    "        \n",
    "        if(i%100 == 0):\n",
    "            costs.append(cost)\n",
    "        \n",
    "        if(i%100 == 0 and  print_cost == True):\n",
    "            print(\"{}. iterasyonda cost fonksiyonunun değeri : {}\".format(i,cost))\n",
    "    \n",
    "    parametreler = {\n",
    "        \"w\" : w,\n",
    "        \"b\" : b\n",
    "    }\n",
    "    turev = {\n",
    "        \"dw\" : turev[\"dw\"],\n",
    "        \"db\" : turev[\"db\"]\n",
    "    }\n",
    "    \n",
    "    return parametreler,turev,costs"
   ]
  },
  {
   "cell_type": "code",
   "execution_count": 95,
   "metadata": {},
   "outputs": [],
   "source": [
    "def tahmin(w,b,X):\n",
    "    \n",
    "    Y_tahmin = np.zeros(shape = (1,X.shape[1]))\n",
    "    \n",
    "    w = w.reshape(X.shape[0],1)\n",
    "    A = sigmoid(np.dot(w.T, X) + b)\n",
    "    \n",
    "    for i in range(A.shape[1]):\n",
    "        if(A[0,i] > 0.5):\n",
    "            Y_tahmin[0,i] = 1\n",
    "    \n",
    "    assert(Y_tahmin.shape == (1, X.shape[1]))\n",
    "    return Y_tahmin"
   ]
  },
  {
   "cell_type": "code",
   "execution_count": 96,
   "metadata": {},
   "outputs": [],
   "source": [
    "def logisticRegressionModel(X_train, Y_train, X_test, Y_test, iteration = 100, learning_rate = 0.01, print_cost = False):\n",
    "    \n",
    "    w, b = start_with_zeros(X_train.shape[0])\n",
    "    parametreler, turev, costs = back_propagation(w,b,X_train,Y_train,learning_rate,iteration,print_cost)\n",
    "    \n",
    "    Y_prediction_train = tahmin(parametreler[\"w\"], parametreler[\"b\"], X_train)\n",
    "    Y_prediction_test = tahmin(parametreler[\"w\"], parametreler[\"b\"], X_test)\n",
    "    \n",
    "    \n",
    "    print(\"Train'in doğruluğu : {} %\".format(np.abs(100 - np.mean(np.abs(Y_prediction_train - Y_train)) * 100)))\n",
    "    print(\"Test'in doğruluğu : {} %\".format(np.abs(100 - np.mean(np.abs(Y_prediction_test - Y_test))*100)))\n",
    "    \n",
    "    d = {\n",
    "        \"costs\" : costs,\n",
    "        \"Y_prediction_train\" : Y_prediction_train,\n",
    "        \"Y_prediction_test\" : Y_prediction_test,\n",
    "        \"w\" : parametreler[\"w\"],\n",
    "        \"b\" : parametreler[\"b\"],\n",
    "        \"learning_rate\" : learning_rate,\n",
    "        \"iteration\" : iteration\n",
    "    }\n",
    "    \n",
    "    return d"
   ]
  },
  {
   "cell_type": "code",
   "execution_count": 97,
   "metadata": {},
   "outputs": [
    {
     "name": "stdout",
     "output_type": "stream",
     "text": [
      "0. iterasyonda cost fonksiyonunun değeri : 0.6931471805599453\n",
      "100. iterasyonda cost fonksiyonunun değeri : 0.5845083636993086\n",
      "200. iterasyonda cost fonksiyonunun değeri : 0.46694904094655476\n",
      "300. iterasyonda cost fonksiyonunun değeri : 0.37600686694802077\n",
      "400. iterasyonda cost fonksiyonunun değeri : 0.3314632893282513\n",
      "500. iterasyonda cost fonksiyonunun değeri : 0.30327306747438293\n",
      "600. iterasyonda cost fonksiyonunun değeri : 0.2798795865826048\n",
      "700. iterasyonda cost fonksiyonunun değeri : 0.26004213692587574\n",
      "800. iterasyonda cost fonksiyonunun değeri : 0.24294068467796623\n",
      "900. iterasyonda cost fonksiyonunun değeri : 0.22800422256726066\n",
      "1000. iterasyonda cost fonksiyonunun değeri : 0.21481951378449635\n",
      "1100. iterasyonda cost fonksiyonunun değeri : 0.20307819060644985\n",
      "1200. iterasyonda cost fonksiyonunun değeri : 0.1925442771670686\n",
      "1300. iterasyonda cost fonksiyonunun değeri : 0.18303333796883503\n",
      "1400. iterasyonda cost fonksiyonunun değeri : 0.17439859438448876\n",
      "1500. iterasyonda cost fonksiyonunun değeri : 0.16652139705400335\n",
      "1600. iterasyonda cost fonksiyonunun değeri : 0.15930451829756614\n",
      "1700. iterasyonda cost fonksiyonunun değeri : 0.15266732471296504\n",
      "1800. iterasyonda cost fonksiyonunun değeri : 0.1465422350398234\n",
      "1900. iterasyonda cost fonksiyonunun değeri : 0.14087207570310162\n",
      "Train'in doğruluğu : 99.04306220095694 %\n",
      "Test'in doğruluğu : 70.0 %\n"
     ]
    }
   ],
   "source": [
    "d = logisticRegressionModel(train_set_x,train_set_y,test_set_x,test_set_y,iteration=2000, learning_rate=0.005,print_cost = True)"
   ]
  },
  {
   "cell_type": "code",
   "execution_count": 98,
   "metadata": {},
   "outputs": [
    {
     "ename": "NameError",
     "evalue": "name 'num_px' is not defined",
     "output_type": "error",
     "traceback": [
      "\u001b[1;31m---------------------------------------------------------------------------\u001b[0m",
      "\u001b[1;31mNameError\u001b[0m                                 Traceback (most recent call last)",
      "\u001b[1;32m<ipython-input-98-6119bf1445a8>\u001b[0m in \u001b[0;36m<module>\u001b[1;34m\u001b[0m\n\u001b[0;32m      1\u001b[0m \u001b[0mindex\u001b[0m \u001b[1;33m=\u001b[0m \u001b[1;36m5\u001b[0m\u001b[1;33m\u001b[0m\u001b[1;33m\u001b[0m\u001b[0m\n\u001b[1;32m----> 2\u001b[1;33m \u001b[0mplt\u001b[0m\u001b[1;33m.\u001b[0m\u001b[0mimshow\u001b[0m\u001b[1;33m(\u001b[0m\u001b[0mtrain_set_x\u001b[0m\u001b[1;33m[\u001b[0m\u001b[1;33m:\u001b[0m\u001b[1;33m,\u001b[0m\u001b[0mindex\u001b[0m\u001b[1;33m]\u001b[0m\u001b[1;33m.\u001b[0m\u001b[0mreshape\u001b[0m\u001b[1;33m(\u001b[0m\u001b[0mnum_px\u001b[0m\u001b[1;33m,\u001b[0m\u001b[0mnum_px\u001b[0m\u001b[1;33m,\u001b[0m\u001b[1;36m3\u001b[0m\u001b[1;33m)\u001b[0m\u001b[1;33m)\u001b[0m\u001b[1;33m\u001b[0m\u001b[1;33m\u001b[0m\u001b[0m\n\u001b[0m",
      "\u001b[1;31mNameError\u001b[0m: name 'num_px' is not defined"
     ]
    }
   ],
   "source": [
    "index = 5\n",
    "plt.imshow(train_set_x[:,index].reshape(num_px,num_px,3))"
   ]
  },
  {
   "cell_type": "code",
   "execution_count": 80,
   "metadata": {},
   "outputs": [
    {
     "data": {
      "image/png": "[encoded data removed]",
      "text/plain": [
       "<Figure size 432x288 with 1 Axes>"
      ]
     },
     "metadata": {
      "needs_background": "light"
     },
     "output_type": "display_data"
    }
   ],
   "source": [
    "costs = np.squeeze(d[\"costs\"])\n",
    "plt.plot(costs)\n",
    "plt.ylabel(\"cost\")\n",
    "plt.xlabel(\"iteration\")\n",
    "plt.title(\"Learning rate : \" + str(d[\"learning_rate\"]))\n",
    "plt.show()"
   ]
  },
  {
   "cell_type": "code",
   "execution_count": 85,
   "metadata": {},
   "outputs": [
    {
     "name": "stdout",
     "output_type": "stream",
     "text": [
      "Ogrenme Katsayısı : 0.003\n",
      "Train'in doğruluğu : 97.12918660287082 %\n",
      "Test'in doğruluğu : 70.0 %\n",
      "\n",
      "-------------------------------------------------------\n",
      "\n",
      "Ogrenme Katsayısı : 0.005\n",
      "Train'in doğruluğu : 99.04306220095694 %\n",
      "Test'in doğruluğu : 70.0 %\n",
      "\n",
      "-------------------------------------------------------\n",
      "\n",
      "Ogrenme Katsayısı : 0.001\n",
      "Train'in doğruluğu : 91.38755980861244 %\n",
      "Test'in doğruluğu : 68.0 %\n",
      "\n",
      "-------------------------------------------------------\n",
      "\n",
      "Ogrenme Katsayısı : 0.01\n",
      "Train'in doğruluğu : 99.52153110047847 %\n",
      "Test'in doğruluğu : 70.0 %\n",
      "\n",
      "-------------------------------------------------------\n",
      "\n"
     ]
    },
    {
     "data": {
      "image/png": "[encoded data removed]",
      "text/plain": [
       "<Figure size 432x288 with 1 Axes>"
      ]
     },
     "metadata": {
      "needs_background": "light"
     },
     "output_type": "display_data"
    }
   ],
   "source": [
    "learning_rates = [0.003,0.005,0.001,0.01]\n",
    "models = {}\n",
    "\n",
    "for i in learning_rates:\n",
    "    print(\"Ogrenme Katsayısı : \" + str(i))\n",
    "    models[str(i)] = logisticRegressionModel(train_set_x, train_set_y, test_set_x, test_set_y, iteration = 2000, learning_rate = i, print_cost = False)\n",
    "    print ('\\n' + \"-------------------------------------------------------\" + '\\n')\n",
    "\n",
    "for i in learning_rates:\n",
    "    plt.plot(np.squeeze(models[str(i)][\"costs\"]), label= str(models[str(i)][\"learning_rate\"]))\n",
    "\n",
    "plt.ylabel('cost')\n",
    "plt.xlabel('iterations')\n",
    "\n",
    "legend = plt.legend(loc='upper center', shadow=True)\n",
    "frame = legend.get_frame()\n",
    "frame.set_facecolor('0.90')\n",
    "plt.show()"
   ]
  },
  {
   "cell_type": "code",
   "execution_count": 102,
   "metadata": {},
   "outputs": [
    {
     "name": "stderr",
     "output_type": "stream",
     "text": [
      "C:\\Users\\HUSEYIN\\Anaconda3\\lib\\site-packages\\skimage\\transform\\_warps.py:105: UserWarning: The default mode, 'constant', will be changed to 'reflect' in skimage 0.15.\n",
      "  warn(\"The default mode, 'constant', will be changed to 'reflect' in \"\n",
      "C:\\Users\\HUSEYIN\\Anaconda3\\lib\\site-packages\\skimage\\transform\\_warps.py:110: UserWarning: Anti-aliasing will be enabled by default in skimage 0.15 to avoid aliasing artifacts when down-sampling images.\n",
      "  warn(\"Anti-aliasing will be enabled by default in skimage 0.15 to \"\n"
     ]
    },
    {
     "ename": "NameError",
     "evalue": "name 'predict' is not defined",
     "output_type": "error",
     "traceback": [
      "\u001b[1;31m---------------------------------------------------------------------------\u001b[0m",
      "\u001b[1;31mNameError\u001b[0m                                 Traceback (most recent call last)",
      "\u001b[1;32m<ipython-input-102-a858d7574b79>\u001b[0m in \u001b[0;36m<module>\u001b[1;34m\u001b[0m\n\u001b[0;32m      6\u001b[0m \u001b[0mimage\u001b[0m \u001b[1;33m=\u001b[0m \u001b[0mnp\u001b[0m\u001b[1;33m.\u001b[0m\u001b[0marray\u001b[0m\u001b[1;33m(\u001b[0m\u001b[0mplt\u001b[0m\u001b[1;33m.\u001b[0m\u001b[0mimread\u001b[0m\u001b[1;33m(\u001b[0m\u001b[0mfname\u001b[0m\u001b[1;33m)\u001b[0m\u001b[1;33m)\u001b[0m\u001b[1;33m\u001b[0m\u001b[1;33m\u001b[0m\u001b[0m\n\u001b[0;32m      7\u001b[0m \u001b[0mmy_image\u001b[0m \u001b[1;33m=\u001b[0m \u001b[0mskimage\u001b[0m\u001b[1;33m.\u001b[0m\u001b[0mtransform\u001b[0m\u001b[1;33m.\u001b[0m\u001b[0mresize\u001b[0m\u001b[1;33m(\u001b[0m\u001b[0mimage\u001b[0m\u001b[1;33m,\u001b[0m \u001b[1;33m(\u001b[0m\u001b[0mnum_px\u001b[0m\u001b[1;33m,\u001b[0m \u001b[0mnum_px\u001b[0m\u001b[1;33m)\u001b[0m\u001b[1;33m)\u001b[0m\u001b[1;33m.\u001b[0m\u001b[0mreshape\u001b[0m\u001b[1;33m(\u001b[0m\u001b[1;33m(\u001b[0m\u001b[1;36m1\u001b[0m\u001b[1;33m,\u001b[0m \u001b[0mnum_px\u001b[0m \u001b[1;33m*\u001b[0m \u001b[0mnum_px\u001b[0m \u001b[1;33m*\u001b[0m \u001b[1;36m3\u001b[0m\u001b[1;33m)\u001b[0m\u001b[1;33m)\u001b[0m\u001b[1;33m.\u001b[0m\u001b[0mT\u001b[0m\u001b[1;33m\u001b[0m\u001b[1;33m\u001b[0m\u001b[0m\n\u001b[1;32m----> 8\u001b[1;33m \u001b[0mmy_predicted_image\u001b[0m \u001b[1;33m=\u001b[0m \u001b[0mpredict\u001b[0m\u001b[1;33m(\u001b[0m\u001b[0md\u001b[0m\u001b[1;33m[\u001b[0m\u001b[1;34m\"w\"\u001b[0m\u001b[1;33m]\u001b[0m\u001b[1;33m,\u001b[0m \u001b[0md\u001b[0m\u001b[1;33m[\u001b[0m\u001b[1;34m\"b\"\u001b[0m\u001b[1;33m]\u001b[0m\u001b[1;33m,\u001b[0m \u001b[0mmy_image\u001b[0m\u001b[1;33m)\u001b[0m\u001b[1;33m\u001b[0m\u001b[1;33m\u001b[0m\u001b[0m\n\u001b[0m\u001b[0;32m      9\u001b[0m \u001b[1;33m\u001b[0m\u001b[0m\n\u001b[0;32m     10\u001b[0m \u001b[0mplt\u001b[0m\u001b[1;33m.\u001b[0m\u001b[0mimshow\u001b[0m\u001b[1;33m(\u001b[0m\u001b[0mimage\u001b[0m\u001b[1;33m)\u001b[0m\u001b[1;33m\u001b[0m\u001b[1;33m\u001b[0m\u001b[0m\n",
      "\u001b[1;31mNameError\u001b[0m: name 'predict' is not defined"
     ]
    }
   ],
   "source": [
    "#Kendi Resmimizi kontrol etme...\n",
    "my_image=\"IMG_4531.JPG\"\n",
    "\n",
    "\n",
    "fname =my_image\n",
    "image = np.array(plt.imread(fname))\n",
    "my_image = skimage.transform.resize(image, (num_px, num_px)).reshape((1, num_px * num_px * 3)).T\n",
    "my_predicted_image = predict(d[\"w\"], d[\"b\"], my_image)\n",
    "\n",
    "plt.imshow(image)\n",
    "print(\"y = \" + str(np.squeeze(my_predicted_image)) + \", your algorithm predicts a \\\"\" + classes[int(np.squeeze(my_predicted_image)),].decode(\"utf-8\") +  \"\\\" picture.\")\n"
   ]
  },
  {
   "cell_type": "code",
   "execution_count": null,
   "metadata": {},
   "outputs": [],
   "source": []
  }
 ],
 "metadata": {
  "kernelspec": {
   "display_name": "Python 3",
   "language": "python",
   "name": "python3"
  },
  "language_info": {
   "codemirror_mode": {
    "name": "ipython",
    "version": 3
   },
   "file_extension": ".py",
   "mimetype": "text/x-python",
   "name": "python",
   "nbconvert_exporter": "python",
   "pygments_lexer": "ipython3",
   "version": "3.7.1"
  }
 },
 "nbformat": 4,
 "nbformat_minor": 2
}
